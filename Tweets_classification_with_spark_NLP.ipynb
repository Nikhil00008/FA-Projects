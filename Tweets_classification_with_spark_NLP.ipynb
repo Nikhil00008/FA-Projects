{
  "nbformat": 4,
  "nbformat_minor": 0,
  "metadata": {
    "colab": {
      "name": "Tweets classification with spark NLP.ipynb",
      "provenance": [],
      "collapsed_sections": []
    },
    "kernelspec": {
      "name": "python3",
      "display_name": "Python 3"
    },
    "language_info": {
      "name": "python"
    }
  },
  "cells": [
    {
      "cell_type": "code",
      "execution_count": 4,
      "metadata": {
        "colab": {
          "base_uri": "https://localhost:8080/"
        },
        "id": "PtPXQD1SN4rm",
        "outputId": "2f401012-2b57-4abe-decd-257aae624e50"
      },
      "outputs": [
        {
          "output_type": "stream",
          "name": "stdout",
          "text": [
            "--2021-12-24 19:57:31--  http://setup.johnsnowlabs.com/colab.sh\n",
            "Resolving setup.johnsnowlabs.com (setup.johnsnowlabs.com)... 51.158.130.125\n",
            "Connecting to setup.johnsnowlabs.com (setup.johnsnowlabs.com)|51.158.130.125|:80... connected.\n",
            "HTTP request sent, awaiting response... 302 Found\n",
            "Location: https://setup.johnsnowlabs.com/colab.sh [following]\n",
            "--2021-12-24 19:57:33--  https://setup.johnsnowlabs.com/colab.sh\n",
            "Connecting to setup.johnsnowlabs.com (setup.johnsnowlabs.com)|51.158.130.125|:443... connected.\n",
            "HTTP request sent, awaiting response... 302 Moved Temporarily\n",
            "Location: https://raw.githubusercontent.com/JohnSnowLabs/spark-nlp/master/scripts/colab_setup.sh [following]\n",
            "--2021-12-24 19:57:34--  https://raw.githubusercontent.com/JohnSnowLabs/spark-nlp/master/scripts/colab_setup.sh\n",
            "Resolving raw.githubusercontent.com (raw.githubusercontent.com)... 185.199.109.133, 185.199.111.133, 185.199.110.133, ...\n",
            "Connecting to raw.githubusercontent.com (raw.githubusercontent.com)|185.199.109.133|:443... connected.\n",
            "HTTP request sent, awaiting response... 200 OK\n",
            "Length: 1275 (1.2K) [text/plain]\n",
            "Saving to: ‘STDOUT’\n",
            "\n",
            "-                   100%[===================>]   1.25K  --.-KB/s    in 0s      \n",
            "\n",
            "2021-12-24 19:57:34 (41.1 MB/s) - written to stdout [1275/1275]\n",
            "\n",
            "setup Colab for PySpark 3.0.3 and Spark NLP 3.3.4\n",
            "Installing PySpark 3.0.3 and Spark NLP 3.3.4\n",
            "\u001b[K     |████████████████████████████████| 209.1 MB 67 kB/s \n",
            "\u001b[K     |████████████████████████████████| 133 kB 53.4 MB/s \n",
            "\u001b[K     |████████████████████████████████| 198 kB 60.6 MB/s \n",
            "\u001b[?25h  Building wheel for pyspark (setup.py) ... \u001b[?25l\u001b[?25hdone\n"
          ]
        }
      ],
      "source": [
        "!wget http://setup.johnsnowlabs.com/colab.sh -O - | bash\n"
      ]
    },
    {
      "cell_type": "code",
      "source": [
        "!wget http://setup.johnsnowlabs.com/colab.sh \n",
        "\n",
        "! cat /content/colab.sh"
      ],
      "metadata": {
        "colab": {
          "base_uri": "https://localhost:8080/"
        },
        "id": "vgwd5-A7N9P5",
        "outputId": "a724d22c-d9c6-4963-ebf3-fa82b3fcaa90"
      },
      "execution_count": 5,
      "outputs": [
        {
          "output_type": "stream",
          "name": "stdout",
          "text": [
            "--2021-12-24 19:58:14--  http://setup.johnsnowlabs.com/colab.sh\n",
            "Resolving setup.johnsnowlabs.com (setup.johnsnowlabs.com)... 51.158.130.125\n",
            "Connecting to setup.johnsnowlabs.com (setup.johnsnowlabs.com)|51.158.130.125|:80... connected.\n",
            "HTTP request sent, awaiting response... 302 Found\n",
            "Location: https://setup.johnsnowlabs.com/colab.sh [following]\n",
            "--2021-12-24 19:58:15--  https://setup.johnsnowlabs.com/colab.sh\n",
            "Connecting to setup.johnsnowlabs.com (setup.johnsnowlabs.com)|51.158.130.125|:443... connected.\n",
            "HTTP request sent, awaiting response... 302 Moved Temporarily\n",
            "Location: https://raw.githubusercontent.com/JohnSnowLabs/spark-nlp/master/scripts/colab_setup.sh [following]\n",
            "--2021-12-24 19:58:16--  https://raw.githubusercontent.com/JohnSnowLabs/spark-nlp/master/scripts/colab_setup.sh\n",
            "Resolving raw.githubusercontent.com (raw.githubusercontent.com)... 185.199.109.133, 185.199.111.133, 185.199.110.133, ...\n",
            "Connecting to raw.githubusercontent.com (raw.githubusercontent.com)|185.199.109.133|:443... connected.\n",
            "HTTP request sent, awaiting response... 200 OK\n",
            "Length: 1275 (1.2K) [text/plain]\n",
            "Saving to: ‘colab.sh’\n",
            "\n",
            "colab.sh            100%[===================>]   1.25K  --.-KB/s    in 0s      \n",
            "\n",
            "2021-12-24 19:58:16 (85.0 MB/s) - ‘colab.sh’ saved [1275/1275]\n",
            "\n",
            "#!/bin/bash\n",
            "\n",
            "#default values for pyspark, spark-nlp, and SPARK_HOME\n",
            "SPARKNLP=\"3.3.4\"\n",
            "PYSPARK=\"3.0.3\"\n",
            "\n",
            "while getopts s:p: option\n",
            "do\n",
            " case \"${option}\"\n",
            " in\n",
            " s) SPARKNLP=${OPTARG};;\n",
            " p) PYSPARK=${OPTARG};;\n",
            " esac\n",
            "done\n",
            "\n",
            "echo \"setup Colab for PySpark $PYSPARK and Spark NLP $SPARKNLP\"\n",
            "export JAVA_HOME=\"/usr/lib/jvm/java-11-openjdk-amd64\"\n",
            "\n",
            "if [[ \"$PYSPARK\" == \"3.1\"* ]]; then\n",
            "  echo \"Installing PySpark $PYSPARK and Spark NLP $SPARKNLP\"\n",
            "elif [[ \"$PYSPARK\" == \"3.0\"* ]]; then\n",
            "  echo \"Installing PySpark $PYSPARK and Spark NLP $SPARKNLP\"\n",
            "elif [[ \"$PYSPARK\" == \"2\"* ]]; then\n",
            "  echo \"Installing PySpark $PYSPARK and Spark NLP $SPARKNLP\"\n",
            "  apt-get update\n",
            "  apt-get purge -y openjdk-11* -qq > /dev/null && sudo apt-get autoremove -y -qq > /dev/null\n",
            "  apt-get install -y openjdk-8-jdk-headless -qq > /dev/null\n",
            "\n",
            "  export SPARK_HOME=$SPARKHOME\n",
            "  export JAVA_HOME=\"/usr/lib/jvm/java-8-openjdk-amd64\"\n",
            "\n",
            "  wget -q \"https://downloads.apache.org/spark/spark-2.4.8/spark-2.4.8-bin-hadoop2.7.tgz\" > /dev/null\n",
            "  tar -xvf spark-2.4.8-bin-hadoop2.8.tgz > /dev/null\n",
            "  SPARKHOME=\"/content/spark-2.4.8-bin-hadoop2.7\"\n",
            "else\n",
            "  export JAVA_HOME=\"/usr/lib/jvm/java-11-openjdk-amd64\"\n",
            "  PYSPARK=\"3.0.3\"\n",
            "fi\n",
            "\n",
            "\n",
            "# Install pyspark spark-nlp\n",
            "! pip install --upgrade -q pyspark==$PYSPARK spark-nlp==$SPARKNLP findspark\n"
          ]
        }
      ]
    },
    {
      "cell_type": "code",
      "source": [
        "import pandas as pd\n",
        "import numpy as np\n",
        "\n",
        "# 2.1 spark related\n",
        "from pyspark.ml import Pipeline\n",
        "from pyspark.sql import SparkSession\n",
        "import pyspark.sql.functions as F\n",
        "from pyspark.sql.types import DoubleType, StringType,StructField,StructType\n",
        "#Replace part of string with another string\n",
        "from pyspark.sql.functions import regexp_replace\n",
        "\n",
        "# 2.2 Spark-nlp related\n",
        "import sparknlp\n",
        "from sparknlp.base import *\n",
        "from sparknlp.annotator import *"
      ],
      "metadata": {
        "id": "ZR8Jax0dOQUm"
      },
      "execution_count": 6,
      "outputs": []
    },
    {
      "cell_type": "code",
      "source": [
        "spark = sparknlp.start()"
      ],
      "metadata": {
        "id": "UKjfwvotOYHW"
      },
      "execution_count": 7,
      "outputs": []
    },
    {
      "cell_type": "code",
      "source": [
        "from IPython.core.interactiveshell import InteractiveShell\n",
        "InteractiveShell.ast_node_interactivity = \"all\"\n"
      ],
      "metadata": {
        "id": "YNlYpBnzOafD"
      },
      "execution_count": 8,
      "outputs": []
    },
    {
      "cell_type": "code",
      "source": [
        "from google.colab import drive\n",
        "drive.mount('/gdrive')"
      ],
      "metadata": {
        "id": "MKULgfNDOd-V",
        "colab": {
          "base_uri": "https://localhost:8080/"
        },
        "outputId": "b11820b7-b96c-446a-dc2a-7be33081c037"
      },
      "execution_count": 9,
      "outputs": [
        {
          "output_type": "stream",
          "name": "stdout",
          "text": [
            "Mounted at /gdrive\n"
          ]
        }
      ]
    },
    {
      "cell_type": "code",
      "source": [
        "!ls"
      ],
      "metadata": {
        "colab": {
          "base_uri": "https://localhost:8080/"
        },
        "id": "Td2dILCuR9JO",
        "outputId": "cf0edd7a-60e1-4202-c127-5a66893ec5ee"
      },
      "execution_count": 10,
      "outputs": [
        {
          "output_type": "stream",
          "name": "stdout",
          "text": [
            "colab.sh  sample_data  toxic_test.snappy.parquet  toxic_train.snappy.parquet\n"
          ]
        }
      ]
    },
    {
      "cell_type": "code",
      "source": [
        "!cd drive"
      ],
      "metadata": {
        "colab": {
          "base_uri": "https://localhost:8080/"
        },
        "id": "mTuo2iVVSYvP",
        "outputId": "3bb21ecd-8e72-499e-9a78-664152022556"
      },
      "execution_count": 11,
      "outputs": [
        {
          "output_type": "stream",
          "name": "stdout",
          "text": [
            "/bin/bash: line 0: cd: drive: No such file or directory\n"
          ]
        }
      ]
    },
    {
      "cell_type": "code",
      "source": [
        "pathToFoler = \"/gdrive/MyDrive/Colab Notebooks/\"\n",
        "fileName = \"train.csv\"\n",
        "fileName2 = \"test.csv\""
      ],
      "metadata": {
        "id": "xQK9dUdoTad3"
      },
      "execution_count": 12,
      "outputs": []
    },
    {
      "cell_type": "code",
      "source": [
        "data_train = pd.read_csv(pathToFoler+fileName)\n",
        "data_test = pd.read_csv(pathToFoler+fileName2)\n",
        "data_test.head(5)\n"
      ],
      "metadata": {
        "colab": {
          "base_uri": "https://localhost:8080/",
          "height": 206
        },
        "id": "-UcZPuQzTcEM",
        "outputId": "1d9da01c-a2d5-4858-d2dc-ad1554f54468"
      },
      "execution_count": 13,
      "outputs": [
        {
          "output_type": "execute_result",
          "data": {
            "text/html": [
              "\n",
              "  <div id=\"df-b8158c3a-8297-45f9-a7c2-889cc14ba2cc\">\n",
              "    <div class=\"colab-df-container\">\n",
              "      <div>\n",
              "<style scoped>\n",
              "    .dataframe tbody tr th:only-of-type {\n",
              "        vertical-align: middle;\n",
              "    }\n",
              "\n",
              "    .dataframe tbody tr th {\n",
              "        vertical-align: top;\n",
              "    }\n",
              "\n",
              "    .dataframe thead th {\n",
              "        text-align: right;\n",
              "    }\n",
              "</style>\n",
              "<table border=\"1\" class=\"dataframe\">\n",
              "  <thead>\n",
              "    <tr style=\"text-align: right;\">\n",
              "      <th></th>\n",
              "      <th>id</th>\n",
              "      <th>keyword</th>\n",
              "      <th>location</th>\n",
              "      <th>text</th>\n",
              "    </tr>\n",
              "  </thead>\n",
              "  <tbody>\n",
              "    <tr>\n",
              "      <th>0</th>\n",
              "      <td>0</td>\n",
              "      <td>NaN</td>\n",
              "      <td>NaN</td>\n",
              "      <td>Just happened a terrible car crash</td>\n",
              "    </tr>\n",
              "    <tr>\n",
              "      <th>1</th>\n",
              "      <td>2</td>\n",
              "      <td>NaN</td>\n",
              "      <td>NaN</td>\n",
              "      <td>Heard about #earthquake is different cities, s...</td>\n",
              "    </tr>\n",
              "    <tr>\n",
              "      <th>2</th>\n",
              "      <td>3</td>\n",
              "      <td>NaN</td>\n",
              "      <td>NaN</td>\n",
              "      <td>there is a forest fire at spot pond, geese are...</td>\n",
              "    </tr>\n",
              "    <tr>\n",
              "      <th>3</th>\n",
              "      <td>9</td>\n",
              "      <td>NaN</td>\n",
              "      <td>NaN</td>\n",
              "      <td>Apocalypse lighting. #Spokane #wildfires</td>\n",
              "    </tr>\n",
              "    <tr>\n",
              "      <th>4</th>\n",
              "      <td>11</td>\n",
              "      <td>NaN</td>\n",
              "      <td>NaN</td>\n",
              "      <td>Typhoon Soudelor kills 28 in China and Taiwan</td>\n",
              "    </tr>\n",
              "  </tbody>\n",
              "</table>\n",
              "</div>\n",
              "      <button class=\"colab-df-convert\" onclick=\"convertToInteractive('df-b8158c3a-8297-45f9-a7c2-889cc14ba2cc')\"\n",
              "              title=\"Convert this dataframe to an interactive table.\"\n",
              "              style=\"display:none;\">\n",
              "        \n",
              "  <svg xmlns=\"http://www.w3.org/2000/svg\" height=\"24px\"viewBox=\"0 0 24 24\"\n",
              "       width=\"24px\">\n",
              "    <path d=\"M0 0h24v24H0V0z\" fill=\"none\"/>\n",
              "    <path d=\"M18.56 5.44l.94 2.06.94-2.06 2.06-.94-2.06-.94-.94-2.06-.94 2.06-2.06.94zm-11 1L8.5 8.5l.94-2.06 2.06-.94-2.06-.94L8.5 2.5l-.94 2.06-2.06.94zm10 10l.94 2.06.94-2.06 2.06-.94-2.06-.94-.94-2.06-.94 2.06-2.06.94z\"/><path d=\"M17.41 7.96l-1.37-1.37c-.4-.4-.92-.59-1.43-.59-.52 0-1.04.2-1.43.59L10.3 9.45l-7.72 7.72c-.78.78-.78 2.05 0 2.83L4 21.41c.39.39.9.59 1.41.59.51 0 1.02-.2 1.41-.59l7.78-7.78 2.81-2.81c.8-.78.8-2.07 0-2.86zM5.41 20L4 18.59l7.72-7.72 1.47 1.35L5.41 20z\"/>\n",
              "  </svg>\n",
              "      </button>\n",
              "      \n",
              "  <style>\n",
              "    .colab-df-container {\n",
              "      display:flex;\n",
              "      flex-wrap:wrap;\n",
              "      gap: 12px;\n",
              "    }\n",
              "\n",
              "    .colab-df-convert {\n",
              "      background-color: #E8F0FE;\n",
              "      border: none;\n",
              "      border-radius: 50%;\n",
              "      cursor: pointer;\n",
              "      display: none;\n",
              "      fill: #1967D2;\n",
              "      height: 32px;\n",
              "      padding: 0 0 0 0;\n",
              "      width: 32px;\n",
              "    }\n",
              "\n",
              "    .colab-df-convert:hover {\n",
              "      background-color: #E2EBFA;\n",
              "      box-shadow: 0px 1px 2px rgba(60, 64, 67, 0.3), 0px 1px 3px 1px rgba(60, 64, 67, 0.15);\n",
              "      fill: #174EA6;\n",
              "    }\n",
              "\n",
              "    [theme=dark] .colab-df-convert {\n",
              "      background-color: #3B4455;\n",
              "      fill: #D2E3FC;\n",
              "    }\n",
              "\n",
              "    [theme=dark] .colab-df-convert:hover {\n",
              "      background-color: #434B5C;\n",
              "      box-shadow: 0px 1px 3px 1px rgba(0, 0, 0, 0.15);\n",
              "      filter: drop-shadow(0px 1px 2px rgba(0, 0, 0, 0.3));\n",
              "      fill: #FFFFFF;\n",
              "    }\n",
              "  </style>\n",
              "\n",
              "      <script>\n",
              "        const buttonEl =\n",
              "          document.querySelector('#df-b8158c3a-8297-45f9-a7c2-889cc14ba2cc button.colab-df-convert');\n",
              "        buttonEl.style.display =\n",
              "          google.colab.kernel.accessAllowed ? 'block' : 'none';\n",
              "\n",
              "        async function convertToInteractive(key) {\n",
              "          const element = document.querySelector('#df-b8158c3a-8297-45f9-a7c2-889cc14ba2cc');\n",
              "          const dataTable =\n",
              "            await google.colab.kernel.invokeFunction('convertToInteractive',\n",
              "                                                     [key], {});\n",
              "          if (!dataTable) return;\n",
              "\n",
              "          const docLinkHtml = 'Like what you see? Visit the ' +\n",
              "            '<a target=\"_blank\" href=https://colab.research.google.com/notebooks/data_table.ipynb>data table notebook</a>'\n",
              "            + ' to learn more about interactive tables.';\n",
              "          element.innerHTML = '';\n",
              "          dataTable['output_type'] = 'display_data';\n",
              "          await google.colab.output.renderOutput(dataTable, element);\n",
              "          const docLink = document.createElement('div');\n",
              "          docLink.innerHTML = docLinkHtml;\n",
              "          element.appendChild(docLink);\n",
              "        }\n",
              "      </script>\n",
              "    </div>\n",
              "  </div>\n",
              "  "
            ],
            "text/plain": [
              "   id keyword location                                               text\n",
              "0   0     NaN      NaN                 Just happened a terrible car crash\n",
              "1   2     NaN      NaN  Heard about #earthquake is different cities, s...\n",
              "2   3     NaN      NaN  there is a forest fire at spot pond, geese are...\n",
              "3   9     NaN      NaN           Apocalypse lighting. #Spokane #wildfires\n",
              "4  11     NaN      NaN      Typhoon Soudelor kills 28 in China and Taiwan"
            ]
          },
          "metadata": {},
          "execution_count": 13
        }
      ]
    },
    {
      "cell_type": "code",
      "source": [
        "change_val = {0: 'Not disaster related',1:'Disaster related'}\n",
        "data_train['target'] = data_train['target'].replace(change_val)\n",
        "#data_test['target'] = data_test['target'].replace(change_val)"
      ],
      "metadata": {
        "id": "_3J0XuHEVZLs"
      },
      "execution_count": 14,
      "outputs": []
    },
    {
      "cell_type": "code",
      "source": [
        "data_train.tail(5)"
      ],
      "metadata": {
        "colab": {
          "base_uri": "https://localhost:8080/",
          "height": 206
        },
        "id": "-q-bfeiEY75J",
        "outputId": "2a7af0c2-45e3-426c-c6a4-496c753930c1"
      },
      "execution_count": 15,
      "outputs": [
        {
          "output_type": "execute_result",
          "data": {
            "text/html": [
              "\n",
              "  <div id=\"df-5840a99d-8eb1-45dc-8209-345b37accdad\">\n",
              "    <div class=\"colab-df-container\">\n",
              "      <div>\n",
              "<style scoped>\n",
              "    .dataframe tbody tr th:only-of-type {\n",
              "        vertical-align: middle;\n",
              "    }\n",
              "\n",
              "    .dataframe tbody tr th {\n",
              "        vertical-align: top;\n",
              "    }\n",
              "\n",
              "    .dataframe thead th {\n",
              "        text-align: right;\n",
              "    }\n",
              "</style>\n",
              "<table border=\"1\" class=\"dataframe\">\n",
              "  <thead>\n",
              "    <tr style=\"text-align: right;\">\n",
              "      <th></th>\n",
              "      <th>id</th>\n",
              "      <th>keyword</th>\n",
              "      <th>location</th>\n",
              "      <th>text</th>\n",
              "      <th>target</th>\n",
              "    </tr>\n",
              "  </thead>\n",
              "  <tbody>\n",
              "    <tr>\n",
              "      <th>7608</th>\n",
              "      <td>10869</td>\n",
              "      <td>NaN</td>\n",
              "      <td>NaN</td>\n",
              "      <td>Two giant cranes holding a bridge collapse int...</td>\n",
              "      <td>Disaster related</td>\n",
              "    </tr>\n",
              "    <tr>\n",
              "      <th>7609</th>\n",
              "      <td>10870</td>\n",
              "      <td>NaN</td>\n",
              "      <td>NaN</td>\n",
              "      <td>@aria_ahrary @TheTawniest The out of control w...</td>\n",
              "      <td>Disaster related</td>\n",
              "    </tr>\n",
              "    <tr>\n",
              "      <th>7610</th>\n",
              "      <td>10871</td>\n",
              "      <td>NaN</td>\n",
              "      <td>NaN</td>\n",
              "      <td>M1.94 [01:04 UTC]?5km S of Volcano Hawaii. htt...</td>\n",
              "      <td>Disaster related</td>\n",
              "    </tr>\n",
              "    <tr>\n",
              "      <th>7611</th>\n",
              "      <td>10872</td>\n",
              "      <td>NaN</td>\n",
              "      <td>NaN</td>\n",
              "      <td>Police investigating after an e-bike collided ...</td>\n",
              "      <td>Disaster related</td>\n",
              "    </tr>\n",
              "    <tr>\n",
              "      <th>7612</th>\n",
              "      <td>10873</td>\n",
              "      <td>NaN</td>\n",
              "      <td>NaN</td>\n",
              "      <td>The Latest: More Homes Razed by Northern Calif...</td>\n",
              "      <td>Disaster related</td>\n",
              "    </tr>\n",
              "  </tbody>\n",
              "</table>\n",
              "</div>\n",
              "      <button class=\"colab-df-convert\" onclick=\"convertToInteractive('df-5840a99d-8eb1-45dc-8209-345b37accdad')\"\n",
              "              title=\"Convert this dataframe to an interactive table.\"\n",
              "              style=\"display:none;\">\n",
              "        \n",
              "  <svg xmlns=\"http://www.w3.org/2000/svg\" height=\"24px\"viewBox=\"0 0 24 24\"\n",
              "       width=\"24px\">\n",
              "    <path d=\"M0 0h24v24H0V0z\" fill=\"none\"/>\n",
              "    <path d=\"M18.56 5.44l.94 2.06.94-2.06 2.06-.94-2.06-.94-.94-2.06-.94 2.06-2.06.94zm-11 1L8.5 8.5l.94-2.06 2.06-.94-2.06-.94L8.5 2.5l-.94 2.06-2.06.94zm10 10l.94 2.06.94-2.06 2.06-.94-2.06-.94-.94-2.06-.94 2.06-2.06.94z\"/><path d=\"M17.41 7.96l-1.37-1.37c-.4-.4-.92-.59-1.43-.59-.52 0-1.04.2-1.43.59L10.3 9.45l-7.72 7.72c-.78.78-.78 2.05 0 2.83L4 21.41c.39.39.9.59 1.41.59.51 0 1.02-.2 1.41-.59l7.78-7.78 2.81-2.81c.8-.78.8-2.07 0-2.86zM5.41 20L4 18.59l7.72-7.72 1.47 1.35L5.41 20z\"/>\n",
              "  </svg>\n",
              "      </button>\n",
              "      \n",
              "  <style>\n",
              "    .colab-df-container {\n",
              "      display:flex;\n",
              "      flex-wrap:wrap;\n",
              "      gap: 12px;\n",
              "    }\n",
              "\n",
              "    .colab-df-convert {\n",
              "      background-color: #E8F0FE;\n",
              "      border: none;\n",
              "      border-radius: 50%;\n",
              "      cursor: pointer;\n",
              "      display: none;\n",
              "      fill: #1967D2;\n",
              "      height: 32px;\n",
              "      padding: 0 0 0 0;\n",
              "      width: 32px;\n",
              "    }\n",
              "\n",
              "    .colab-df-convert:hover {\n",
              "      background-color: #E2EBFA;\n",
              "      box-shadow: 0px 1px 2px rgba(60, 64, 67, 0.3), 0px 1px 3px 1px rgba(60, 64, 67, 0.15);\n",
              "      fill: #174EA6;\n",
              "    }\n",
              "\n",
              "    [theme=dark] .colab-df-convert {\n",
              "      background-color: #3B4455;\n",
              "      fill: #D2E3FC;\n",
              "    }\n",
              "\n",
              "    [theme=dark] .colab-df-convert:hover {\n",
              "      background-color: #434B5C;\n",
              "      box-shadow: 0px 1px 3px 1px rgba(0, 0, 0, 0.15);\n",
              "      filter: drop-shadow(0px 1px 2px rgba(0, 0, 0, 0.3));\n",
              "      fill: #FFFFFF;\n",
              "    }\n",
              "  </style>\n",
              "\n",
              "      <script>\n",
              "        const buttonEl =\n",
              "          document.querySelector('#df-5840a99d-8eb1-45dc-8209-345b37accdad button.colab-df-convert');\n",
              "        buttonEl.style.display =\n",
              "          google.colab.kernel.accessAllowed ? 'block' : 'none';\n",
              "\n",
              "        async function convertToInteractive(key) {\n",
              "          const element = document.querySelector('#df-5840a99d-8eb1-45dc-8209-345b37accdad');\n",
              "          const dataTable =\n",
              "            await google.colab.kernel.invokeFunction('convertToInteractive',\n",
              "                                                     [key], {});\n",
              "          if (!dataTable) return;\n",
              "\n",
              "          const docLinkHtml = 'Like what you see? Visit the ' +\n",
              "            '<a target=\"_blank\" href=https://colab.research.google.com/notebooks/data_table.ipynb>data table notebook</a>'\n",
              "            + ' to learn more about interactive tables.';\n",
              "          element.innerHTML = '';\n",
              "          dataTable['output_type'] = 'display_data';\n",
              "          await google.colab.output.renderOutput(dataTable, element);\n",
              "          const docLink = document.createElement('div');\n",
              "          docLink.innerHTML = docLinkHtml;\n",
              "          element.appendChild(docLink);\n",
              "        }\n",
              "      </script>\n",
              "    </div>\n",
              "  </div>\n",
              "  "
            ],
            "text/plain": [
              "         id  ...            target\n",
              "7608  10869  ...  Disaster related\n",
              "7609  10870  ...  Disaster related\n",
              "7610  10871  ...  Disaster related\n",
              "7611  10872  ...  Disaster related\n",
              "7612  10873  ...  Disaster related\n",
              "\n",
              "[5 rows x 5 columns]"
            ]
          },
          "metadata": {},
          "execution_count": 15
        }
      ]
    },
    {
      "cell_type": "code",
      "source": [
        "data_train.pop('keyword')\n",
        "data_train.pop('location')\n",
        "data_test.pop('keyword')\n",
        "data_test.pop('location')\n"
      ],
      "metadata": {
        "colab": {
          "base_uri": "https://localhost:8080/"
        },
        "id": "PhLSi8bsZMq7",
        "outputId": "2e8738fa-4e8a-456a-c0d3-865ad060721a"
      },
      "execution_count": 16,
      "outputs": [
        {
          "output_type": "execute_result",
          "data": {
            "text/plain": [
              "0       NaN\n",
              "1       NaN\n",
              "2       NaN\n",
              "3       NaN\n",
              "4       NaN\n",
              "       ... \n",
              "7608    NaN\n",
              "7609    NaN\n",
              "7610    NaN\n",
              "7611    NaN\n",
              "7612    NaN\n",
              "Name: keyword, Length: 7613, dtype: object"
            ]
          },
          "metadata": {},
          "execution_count": 16
        },
        {
          "output_type": "execute_result",
          "data": {
            "text/plain": [
              "0       NaN\n",
              "1       NaN\n",
              "2       NaN\n",
              "3       NaN\n",
              "4       NaN\n",
              "       ... \n",
              "7608    NaN\n",
              "7609    NaN\n",
              "7610    NaN\n",
              "7611    NaN\n",
              "7612    NaN\n",
              "Name: location, Length: 7613, dtype: object"
            ]
          },
          "metadata": {},
          "execution_count": 16
        },
        {
          "output_type": "execute_result",
          "data": {
            "text/plain": [
              "0       NaN\n",
              "1       NaN\n",
              "2       NaN\n",
              "3       NaN\n",
              "4       NaN\n",
              "       ... \n",
              "3258    NaN\n",
              "3259    NaN\n",
              "3260    NaN\n",
              "3261    NaN\n",
              "3262    NaN\n",
              "Name: keyword, Length: 3263, dtype: object"
            ]
          },
          "metadata": {},
          "execution_count": 16
        },
        {
          "output_type": "execute_result",
          "data": {
            "text/plain": [
              "0       NaN\n",
              "1       NaN\n",
              "2       NaN\n",
              "3       NaN\n",
              "4       NaN\n",
              "       ... \n",
              "3258    NaN\n",
              "3259    NaN\n",
              "3260    NaN\n",
              "3261    NaN\n",
              "3262    NaN\n",
              "Name: location, Length: 3263, dtype: object"
            ]
          },
          "metadata": {},
          "execution_count": 16
        }
      ]
    },
    {
      "cell_type": "code",
      "source": [
        "df_train = spark.createDataFrame(data_train)\n",
        "df_test = spark.createDataFrame(data_test)"
      ],
      "metadata": {
        "id": "CMygQEY1gQmP"
      },
      "execution_count": 19,
      "outputs": []
    },
    {
      "cell_type": "code",
      "source": [
        "df_train.show()\n",
        "df_test.show()"
      ],
      "metadata": {
        "colab": {
          "base_uri": "https://localhost:8080/"
        },
        "id": "T81VU-efgljI",
        "outputId": "d9c0ef11-13e7-4c5b-a9b7-8867d0b14a7e"
      },
      "execution_count": 20,
      "outputs": [
        {
          "output_type": "stream",
          "name": "stdout",
          "text": [
            "+---+--------------------+--------------------+\n",
            "| id|                text|              target|\n",
            "+---+--------------------+--------------------+\n",
            "|  1|Our Deeds are the...|    Disaster related|\n",
            "|  4|Forest fire near ...|    Disaster related|\n",
            "|  5|All residents ask...|    Disaster related|\n",
            "|  6|13,000 people rec...|    Disaster related|\n",
            "|  7|Just got sent thi...|    Disaster related|\n",
            "|  8|#RockyFire Update...|    Disaster related|\n",
            "| 10|#flood #disaster ...|    Disaster related|\n",
            "| 13|I'm on top of the...|    Disaster related|\n",
            "| 14|There's an emerge...|    Disaster related|\n",
            "| 15|I'm afraid that t...|    Disaster related|\n",
            "| 16|Three people died...|    Disaster related|\n",
            "| 17|Haha South Tampa ...|    Disaster related|\n",
            "| 18|#raining #floodin...|    Disaster related|\n",
            "| 19|#Flood in Bago My...|    Disaster related|\n",
            "| 20|Damage to school ...|    Disaster related|\n",
            "| 23|      What's up man?|Not disaster related|\n",
            "| 24|       I love fruits|Not disaster related|\n",
            "| 25|    Summer is lovely|Not disaster related|\n",
            "| 26|   My car is so fast|Not disaster related|\n",
            "| 28|What a goooooooaa...|Not disaster related|\n",
            "+---+--------------------+--------------------+\n",
            "only showing top 20 rows\n",
            "\n",
            "+---+--------------------+\n",
            "| id|                text|\n",
            "+---+--------------------+\n",
            "|  0|Just happened a t...|\n",
            "|  2|Heard about #eart...|\n",
            "|  3|there is a forest...|\n",
            "|  9|Apocalypse lighti...|\n",
            "| 11|Typhoon Soudelor ...|\n",
            "| 12|We're shaking...I...|\n",
            "| 21|They'd probably s...|\n",
            "| 22|   Hey! How are you?|\n",
            "| 27|    What a nice hat?|\n",
            "| 29|           Fuck off!|\n",
            "| 30|No I don't like c...|\n",
            "| 35|NOOOOOOOOO! Don't...|\n",
            "| 42|No don't tell me ...|\n",
            "| 43|           What if?!|\n",
            "| 45|            Awesome!|\n",
            "| 46|Birmingham Wholes...|\n",
            "| 47|@sunkxssedharry w...|\n",
            "| 51|#PreviouslyOnDoyi...|\n",
            "| 58|Check these out: ...|\n",
            "| 60|PSA: IÛªm splitt...|\n",
            "+---+--------------------+\n",
            "only showing top 20 rows\n",
            "\n"
          ]
        }
      ]
    },
    {
      "cell_type": "code",
      "source": [
        "# actual content is inside description column\n",
        "document = DocumentAssembler()\\\n",
        "    .setInputCol(\"text\")\\\n",
        "    .setOutputCol(\"document\")\n",
        "\n",
        "use = UniversalSentenceEncoder.pretrained(\"tfhub_use_lg\", \"en\") \\\n",
        "    .setInputCols(\"document\") \\\n",
        "    .setOutputCol(\"sentence_embeddings\")\n",
        "\n",
        "# the classes/labels/categories are in category column\n",
        "sentimentdl = SentimentDLApproach()\\\n",
        "    .setInputCols([\"sentence_embeddings\"])\\\n",
        "    .setOutputCol(\"class\")\\\n",
        "    .setLabelColumn(\"target\")\\\n",
        "    .setMaxEpochs(5)\\\n",
        "    .setEnableOutputLogs(True)\n",
        "\n",
        "pipeline = Pipeline(\n",
        "    stages = [\n",
        "        document,\n",
        "        use,\n",
        "        sentimentdl\n",
        "    ])\n"
      ],
      "metadata": {
        "colab": {
          "base_uri": "https://localhost:8080/"
        },
        "id": "ojQdRPpdgrb5",
        "outputId": "245a9501-fe25-41f0-8a89-c58e860228ea"
      },
      "execution_count": 21,
      "outputs": [
        {
          "output_type": "stream",
          "name": "stdout",
          "text": [
            "tfhub_use_lg download started this may take some time.\n",
            "Approximate size to download 753.3 MB\n",
            "[OK!]\n"
          ]
        }
      ]
    },
    {
      "cell_type": "code",
      "source": [
        "pipelineModel = pipeline.fit(df_train)"
      ],
      "metadata": {
        "id": "v9POZNzGiJdt"
      },
      "execution_count": 22,
      "outputs": []
    },
    {
      "cell_type": "code",
      "source": [
        "result = pipelineModel.transform(df_test)"
      ],
      "metadata": {
        "id": "P1zTzbd4i0dk"
      },
      "execution_count": 23,
      "outputs": []
    },
    {
      "cell_type": "code",
      "source": [
        "result.show()"
      ],
      "metadata": {
        "colab": {
          "base_uri": "https://localhost:8080/"
        },
        "id": "Cftnbi-tkj3H",
        "outputId": "f778d796-c819-4ad9-8d0b-70bc77044908"
      },
      "execution_count": 24,
      "outputs": [
        {
          "output_type": "stream",
          "name": "stdout",
          "text": [
            "+---+--------------------+--------------------+--------------------+--------------------+\n",
            "| id|                text|            document| sentence_embeddings|               class|\n",
            "+---+--------------------+--------------------+--------------------+--------------------+\n",
            "|  0|Just happened a t...|[[document, 0, 33...|[[sentence_embedd...|[[category, 0, 33...|\n",
            "|  2|Heard about #eart...|[[document, 0, 63...|[[sentence_embedd...|[[category, 0, 63...|\n",
            "|  3|there is a forest...|[[document, 0, 95...|[[sentence_embedd...|[[category, 0, 95...|\n",
            "|  9|Apocalypse lighti...|[[document, 0, 39...|[[sentence_embedd...|[[category, 0, 39...|\n",
            "| 11|Typhoon Soudelor ...|[[document, 0, 44...|[[sentence_embedd...|[[category, 0, 44...|\n",
            "| 12|We're shaking...I...|[[document, 0, 33...|[[sentence_embedd...|[[category, 0, 33...|\n",
            "| 21|They'd probably s...|[[document, 0, 71...|[[sentence_embedd...|[[category, 0, 71...|\n",
            "| 22|   Hey! How are you?|[[document, 0, 16...|[[sentence_embedd...|[[category, 0, 16...|\n",
            "| 27|    What a nice hat?|[[document, 0, 15...|[[sentence_embedd...|[[category, 0, 15...|\n",
            "| 29|           Fuck off!|[[document, 0, 8,...|[[sentence_embedd...|[[category, 0, 8,...|\n",
            "| 30|No I don't like c...|[[document, 0, 20...|[[sentence_embedd...|[[category, 0, 20...|\n",
            "| 35|NOOOOOOOOO! Don't...|[[document, 0, 25...|[[sentence_embedd...|[[category, 0, 25...|\n",
            "| 42|No don't tell me ...|[[document, 0, 21...|[[sentence_embedd...|[[category, 0, 21...|\n",
            "| 43|           What if?!|[[document, 0, 8,...|[[sentence_embedd...|[[category, 0, 8,...|\n",
            "| 45|            Awesome!|[[document, 0, 7,...|[[sentence_embedd...|[[category, 0, 7,...|\n",
            "| 46|Birmingham Wholes...|[[document, 0, 11...|[[sentence_embedd...|[[category, 0, 11...|\n",
            "| 47|@sunkxssedharry w...|[[document, 0, 53...|[[sentence_embedd...|[[category, 0, 53...|\n",
            "| 51|#PreviouslyOnDoyi...|[[document, 0, 10...|[[sentence_embedd...|[[category, 0, 10...|\n",
            "| 58|Check these out: ...|[[document, 0, 11...|[[sentence_embedd...|[[category, 0, 11...|\n",
            "| 60|PSA: IÛªm splitt...|[[document, 0, 93...|[[sentence_embedd...|[[category, 0, 93...|\n",
            "+---+--------------------+--------------------+--------------------+--------------------+\n",
            "only showing top 20 rows\n",
            "\n"
          ]
        }
      ]
    },
    {
      "cell_type": "code",
      "source": [
        "result_df = result.select('text',\"class.result\").toPandas()"
      ],
      "metadata": {
        "id": "gm8FaTKulAQR"
      },
      "execution_count": 25,
      "outputs": []
    },
    {
      "cell_type": "code",
      "source": [
        "result_df.head(50)"
      ],
      "metadata": {
        "colab": {
          "base_uri": "https://localhost:8080/",
          "height": 1000
        },
        "id": "XJDRXXublw94",
        "outputId": "70174f5f-b040-4a0c-e301-30295f75499f"
      },
      "execution_count": 26,
      "outputs": [
        {
          "output_type": "execute_result",
          "data": {
            "text/html": [
              "\n",
              "  <div id=\"df-483dab31-587e-4a36-a2f7-bee80a98b40e\">\n",
              "    <div class=\"colab-df-container\">\n",
              "      <div>\n",
              "<style scoped>\n",
              "    .dataframe tbody tr th:only-of-type {\n",
              "        vertical-align: middle;\n",
              "    }\n",
              "\n",
              "    .dataframe tbody tr th {\n",
              "        vertical-align: top;\n",
              "    }\n",
              "\n",
              "    .dataframe thead th {\n",
              "        text-align: right;\n",
              "    }\n",
              "</style>\n",
              "<table border=\"1\" class=\"dataframe\">\n",
              "  <thead>\n",
              "    <tr style=\"text-align: right;\">\n",
              "      <th></th>\n",
              "      <th>text</th>\n",
              "      <th>result</th>\n",
              "    </tr>\n",
              "  </thead>\n",
              "  <tbody>\n",
              "    <tr>\n",
              "      <th>0</th>\n",
              "      <td>Just happened a terrible car crash</td>\n",
              "      <td>[Not disaster related]</td>\n",
              "    </tr>\n",
              "    <tr>\n",
              "      <th>1</th>\n",
              "      <td>Heard about #earthquake is different cities, s...</td>\n",
              "      <td>[Disaster related]</td>\n",
              "    </tr>\n",
              "    <tr>\n",
              "      <th>2</th>\n",
              "      <td>there is a forest fire at spot pond, geese are...</td>\n",
              "      <td>[Disaster related]</td>\n",
              "    </tr>\n",
              "    <tr>\n",
              "      <th>3</th>\n",
              "      <td>Apocalypse lighting. #Spokane #wildfires</td>\n",
              "      <td>[Disaster related]</td>\n",
              "    </tr>\n",
              "    <tr>\n",
              "      <th>4</th>\n",
              "      <td>Typhoon Soudelor kills 28 in China and Taiwan</td>\n",
              "      <td>[Disaster related]</td>\n",
              "    </tr>\n",
              "    <tr>\n",
              "      <th>5</th>\n",
              "      <td>We're shaking...It's an earthquake</td>\n",
              "      <td>[Disaster related]</td>\n",
              "    </tr>\n",
              "    <tr>\n",
              "      <th>6</th>\n",
              "      <td>They'd probably still show more life than Arse...</td>\n",
              "      <td>[Not disaster related]</td>\n",
              "    </tr>\n",
              "    <tr>\n",
              "      <th>7</th>\n",
              "      <td>Hey! How are you?</td>\n",
              "      <td>[Not disaster related]</td>\n",
              "    </tr>\n",
              "    <tr>\n",
              "      <th>8</th>\n",
              "      <td>What a nice hat?</td>\n",
              "      <td>[Not disaster related]</td>\n",
              "    </tr>\n",
              "    <tr>\n",
              "      <th>9</th>\n",
              "      <td>Fuck off!</td>\n",
              "      <td>[Not disaster related]</td>\n",
              "    </tr>\n",
              "    <tr>\n",
              "      <th>10</th>\n",
              "      <td>No I don't like cold!</td>\n",
              "      <td>[Not disaster related]</td>\n",
              "    </tr>\n",
              "    <tr>\n",
              "      <th>11</th>\n",
              "      <td>NOOOOOOOOO! Don't do that!</td>\n",
              "      <td>[Not disaster related]</td>\n",
              "    </tr>\n",
              "    <tr>\n",
              "      <th>12</th>\n",
              "      <td>No don't tell me that!</td>\n",
              "      <td>[Not disaster related]</td>\n",
              "    </tr>\n",
              "    <tr>\n",
              "      <th>13</th>\n",
              "      <td>What if?!</td>\n",
              "      <td>[Not disaster related]</td>\n",
              "    </tr>\n",
              "    <tr>\n",
              "      <th>14</th>\n",
              "      <td>Awesome!</td>\n",
              "      <td>[Not disaster related]</td>\n",
              "    </tr>\n",
              "    <tr>\n",
              "      <th>15</th>\n",
              "      <td>Birmingham Wholesale Market is ablaze BBC News...</td>\n",
              "      <td>[Disaster related]</td>\n",
              "    </tr>\n",
              "    <tr>\n",
              "      <th>16</th>\n",
              "      <td>@sunkxssedharry will you wear shorts for race ...</td>\n",
              "      <td>[Not disaster related]</td>\n",
              "    </tr>\n",
              "    <tr>\n",
              "      <th>17</th>\n",
              "      <td>#PreviouslyOnDoyinTv: Toke MakinwaÛªs marriag...</td>\n",
              "      <td>[Disaster related]</td>\n",
              "    </tr>\n",
              "    <tr>\n",
              "      <th>18</th>\n",
              "      <td>Check these out: http://t.co/rOI2NSmEJJ http:/...</td>\n",
              "      <td>[Not disaster related]</td>\n",
              "    </tr>\n",
              "    <tr>\n",
              "      <th>19</th>\n",
              "      <td>PSA: IÛªm splitting my personalities.\\n\\n?? t...</td>\n",
              "      <td>[Not disaster related]</td>\n",
              "    </tr>\n",
              "    <tr>\n",
              "      <th>20</th>\n",
              "      <td>beware world ablaze sierra leone &amp;amp; guap.</td>\n",
              "      <td>[Not disaster related]</td>\n",
              "    </tr>\n",
              "    <tr>\n",
              "      <th>21</th>\n",
              "      <td>Burning Man Ablaze! by Turban Diva http://t.co...</td>\n",
              "      <td>[Not disaster related]</td>\n",
              "    </tr>\n",
              "    <tr>\n",
              "      <th>22</th>\n",
              "      <td>Not a diss song. People will take 1 thing and ...</td>\n",
              "      <td>[Not disaster related]</td>\n",
              "    </tr>\n",
              "    <tr>\n",
              "      <th>23</th>\n",
              "      <td>Rape victim dies as she sets herself ablaze: A...</td>\n",
              "      <td>[Disaster related]</td>\n",
              "    </tr>\n",
              "    <tr>\n",
              "      <th>24</th>\n",
              "      <td>SETTING MYSELF ABLAZE http://t.co/6vMe7P5XhC</td>\n",
              "      <td>[Not disaster related]</td>\n",
              "    </tr>\n",
              "    <tr>\n",
              "      <th>25</th>\n",
              "      <td>@CTVToronto the bins in front of the field by ...</td>\n",
              "      <td>[Disaster related]</td>\n",
              "    </tr>\n",
              "    <tr>\n",
              "      <th>26</th>\n",
              "      <td>#nowplaying Alfons - Ablaze 2015 on Puls Radio...</td>\n",
              "      <td>[Not disaster related]</td>\n",
              "    </tr>\n",
              "    <tr>\n",
              "      <th>27</th>\n",
              "      <td>'Burning Rahm': Let's hope City Hall builds a ...</td>\n",
              "      <td>[Not disaster related]</td>\n",
              "    </tr>\n",
              "    <tr>\n",
              "      <th>28</th>\n",
              "      <td>@PhilippaEilhart @DhuBlath hurt but her eyes a...</td>\n",
              "      <td>[Not disaster related]</td>\n",
              "    </tr>\n",
              "    <tr>\n",
              "      <th>29</th>\n",
              "      <td>Accident cleared in #PaTurnpike on PATP EB bet...</td>\n",
              "      <td>[Disaster related]</td>\n",
              "    </tr>\n",
              "    <tr>\n",
              "      <th>30</th>\n",
              "      <td>Just got to love burning your self on a damn c...</td>\n",
              "      <td>[Not disaster related]</td>\n",
              "    </tr>\n",
              "    <tr>\n",
              "      <th>31</th>\n",
              "      <td>I hate badging shit in accident</td>\n",
              "      <td>[Not disaster related]</td>\n",
              "    </tr>\n",
              "    <tr>\n",
              "      <th>32</th>\n",
              "      <td>#3: Car Recorder ZeroEdgeå¨ Dual-lens Car Came...</td>\n",
              "      <td>[Not disaster related]</td>\n",
              "    </tr>\n",
              "    <tr>\n",
              "      <th>33</th>\n",
              "      <td>Coincidence Or #Curse? Still #Unresolved Secre...</td>\n",
              "      <td>[Not disaster related]</td>\n",
              "    </tr>\n",
              "    <tr>\n",
              "      <th>34</th>\n",
              "      <td>@Traffic_SouthE @roadpol_east Accident on A27 ...</td>\n",
              "      <td>[Disaster related]</td>\n",
              "    </tr>\n",
              "    <tr>\n",
              "      <th>35</th>\n",
              "      <td>@sakuma_en If you pretend to feel a certain wa...</td>\n",
              "      <td>[Not disaster related]</td>\n",
              "    </tr>\n",
              "    <tr>\n",
              "      <th>36</th>\n",
              "      <td>For Legal and Medical Referral Service @1800_I...</td>\n",
              "      <td>[Not disaster related]</td>\n",
              "    </tr>\n",
              "    <tr>\n",
              "      <th>37</th>\n",
              "      <td>There's a construction guy working on the Disn...</td>\n",
              "      <td>[Not disaster related]</td>\n",
              "    </tr>\n",
              "    <tr>\n",
              "      <th>38</th>\n",
              "      <td>@RobynJilllian @WlSDOMTEETHS I feel like I'm g...</td>\n",
              "      <td>[Not disaster related]</td>\n",
              "    </tr>\n",
              "    <tr>\n",
              "      <th>39</th>\n",
              "      <td>On the #M42 northbound between junctions J3 an...</td>\n",
              "      <td>[Disaster related]</td>\n",
              "    </tr>\n",
              "    <tr>\n",
              "      <th>40</th>\n",
              "      <td>@DaveOshry @Soembie So if I say that I met her...</td>\n",
              "      <td>[Not disaster related]</td>\n",
              "    </tr>\n",
              "    <tr>\n",
              "      <th>41</th>\n",
              "      <td>ACCIDENT - HIT AND RUN - COLD at 500 BLOCK OF ...</td>\n",
              "      <td>[Disaster related]</td>\n",
              "    </tr>\n",
              "    <tr>\n",
              "      <th>42</th>\n",
              "      <td>@Calum5SOS this happened on accident but I lik...</td>\n",
              "      <td>[Not disaster related]</td>\n",
              "    </tr>\n",
              "    <tr>\n",
              "      <th>43</th>\n",
              "      <td>Please donate and spread the word! A training ...</td>\n",
              "      <td>[Disaster related]</td>\n",
              "    </tr>\n",
              "    <tr>\n",
              "      <th>44</th>\n",
              "      <td>Please like and share our new page for our Ind...</td>\n",
              "      <td>[Not disaster related]</td>\n",
              "    </tr>\n",
              "    <tr>\n",
              "      <th>45</th>\n",
              "      <td>@bxckylynch foi no ROH Aftershock: Las Vegas p...</td>\n",
              "      <td>[Not disaster related]</td>\n",
              "    </tr>\n",
              "    <tr>\n",
              "      <th>46</th>\n",
              "      <td>Schoolboy ÛÒ Aftershock (Original Mix)\\nExcis...</td>\n",
              "      <td>[Not disaster related]</td>\n",
              "    </tr>\n",
              "    <tr>\n",
              "      <th>47</th>\n",
              "      <td>320 [IR] ICEMOON [AFTERSHOCK] | http://t.co/TH...</td>\n",
              "      <td>[Not disaster related]</td>\n",
              "    </tr>\n",
              "    <tr>\n",
              "      <th>48</th>\n",
              "      <td>'When the aftershock happened (Nepal) we were ...</td>\n",
              "      <td>[Disaster related]</td>\n",
              "    </tr>\n",
              "    <tr>\n",
              "      <th>49</th>\n",
              "      <td>320 [IR] ICEMOON [AFTERSHOCK] | http://t.co/gR...</td>\n",
              "      <td>[Not disaster related]</td>\n",
              "    </tr>\n",
              "  </tbody>\n",
              "</table>\n",
              "</div>\n",
              "      <button class=\"colab-df-convert\" onclick=\"convertToInteractive('df-483dab31-587e-4a36-a2f7-bee80a98b40e')\"\n",
              "              title=\"Convert this dataframe to an interactive table.\"\n",
              "              style=\"display:none;\">\n",
              "        \n",
              "  <svg xmlns=\"http://www.w3.org/2000/svg\" height=\"24px\"viewBox=\"0 0 24 24\"\n",
              "       width=\"24px\">\n",
              "    <path d=\"M0 0h24v24H0V0z\" fill=\"none\"/>\n",
              "    <path d=\"M18.56 5.44l.94 2.06.94-2.06 2.06-.94-2.06-.94-.94-2.06-.94 2.06-2.06.94zm-11 1L8.5 8.5l.94-2.06 2.06-.94-2.06-.94L8.5 2.5l-.94 2.06-2.06.94zm10 10l.94 2.06.94-2.06 2.06-.94-2.06-.94-.94-2.06-.94 2.06-2.06.94z\"/><path d=\"M17.41 7.96l-1.37-1.37c-.4-.4-.92-.59-1.43-.59-.52 0-1.04.2-1.43.59L10.3 9.45l-7.72 7.72c-.78.78-.78 2.05 0 2.83L4 21.41c.39.39.9.59 1.41.59.51 0 1.02-.2 1.41-.59l7.78-7.78 2.81-2.81c.8-.78.8-2.07 0-2.86zM5.41 20L4 18.59l7.72-7.72 1.47 1.35L5.41 20z\"/>\n",
              "  </svg>\n",
              "      </button>\n",
              "      \n",
              "  <style>\n",
              "    .colab-df-container {\n",
              "      display:flex;\n",
              "      flex-wrap:wrap;\n",
              "      gap: 12px;\n",
              "    }\n",
              "\n",
              "    .colab-df-convert {\n",
              "      background-color: #E8F0FE;\n",
              "      border: none;\n",
              "      border-radius: 50%;\n",
              "      cursor: pointer;\n",
              "      display: none;\n",
              "      fill: #1967D2;\n",
              "      height: 32px;\n",
              "      padding: 0 0 0 0;\n",
              "      width: 32px;\n",
              "    }\n",
              "\n",
              "    .colab-df-convert:hover {\n",
              "      background-color: #E2EBFA;\n",
              "      box-shadow: 0px 1px 2px rgba(60, 64, 67, 0.3), 0px 1px 3px 1px rgba(60, 64, 67, 0.15);\n",
              "      fill: #174EA6;\n",
              "    }\n",
              "\n",
              "    [theme=dark] .colab-df-convert {\n",
              "      background-color: #3B4455;\n",
              "      fill: #D2E3FC;\n",
              "    }\n",
              "\n",
              "    [theme=dark] .colab-df-convert:hover {\n",
              "      background-color: #434B5C;\n",
              "      box-shadow: 0px 1px 3px 1px rgba(0, 0, 0, 0.15);\n",
              "      filter: drop-shadow(0px 1px 2px rgba(0, 0, 0, 0.3));\n",
              "      fill: #FFFFFF;\n",
              "    }\n",
              "  </style>\n",
              "\n",
              "      <script>\n",
              "        const buttonEl =\n",
              "          document.querySelector('#df-483dab31-587e-4a36-a2f7-bee80a98b40e button.colab-df-convert');\n",
              "        buttonEl.style.display =\n",
              "          google.colab.kernel.accessAllowed ? 'block' : 'none';\n",
              "\n",
              "        async function convertToInteractive(key) {\n",
              "          const element = document.querySelector('#df-483dab31-587e-4a36-a2f7-bee80a98b40e');\n",
              "          const dataTable =\n",
              "            await google.colab.kernel.invokeFunction('convertToInteractive',\n",
              "                                                     [key], {});\n",
              "          if (!dataTable) return;\n",
              "\n",
              "          const docLinkHtml = 'Like what you see? Visit the ' +\n",
              "            '<a target=\"_blank\" href=https://colab.research.google.com/notebooks/data_table.ipynb>data table notebook</a>'\n",
              "            + ' to learn more about interactive tables.';\n",
              "          element.innerHTML = '';\n",
              "          dataTable['output_type'] = 'display_data';\n",
              "          await google.colab.output.renderOutput(dataTable, element);\n",
              "          const docLink = document.createElement('div');\n",
              "          docLink.innerHTML = docLinkHtml;\n",
              "          element.appendChild(docLink);\n",
              "        }\n",
              "      </script>\n",
              "    </div>\n",
              "  </div>\n",
              "  "
            ],
            "text/plain": [
              "                                                 text                  result\n",
              "0                  Just happened a terrible car crash  [Not disaster related]\n",
              "1   Heard about #earthquake is different cities, s...      [Disaster related]\n",
              "2   there is a forest fire at spot pond, geese are...      [Disaster related]\n",
              "3            Apocalypse lighting. #Spokane #wildfires      [Disaster related]\n",
              "4       Typhoon Soudelor kills 28 in China and Taiwan      [Disaster related]\n",
              "5                  We're shaking...It's an earthquake      [Disaster related]\n",
              "6   They'd probably still show more life than Arse...  [Not disaster related]\n",
              "7                                   Hey! How are you?  [Not disaster related]\n",
              "8                                    What a nice hat?  [Not disaster related]\n",
              "9                                           Fuck off!  [Not disaster related]\n",
              "10                              No I don't like cold!  [Not disaster related]\n",
              "11                         NOOOOOOOOO! Don't do that!  [Not disaster related]\n",
              "12                             No don't tell me that!  [Not disaster related]\n",
              "13                                          What if?!  [Not disaster related]\n",
              "14                                           Awesome!  [Not disaster related]\n",
              "15  Birmingham Wholesale Market is ablaze BBC News...      [Disaster related]\n",
              "16  @sunkxssedharry will you wear shorts for race ...  [Not disaster related]\n",
              "17  #PreviouslyOnDoyinTv: Toke MakinwaÛªs marriag...      [Disaster related]\n",
              "18  Check these out: http://t.co/rOI2NSmEJJ http:/...  [Not disaster related]\n",
              "19  PSA: IÛªm splitting my personalities.\\n\\n?? t...  [Not disaster related]\n",
              "20       beware world ablaze sierra leone &amp; guap.  [Not disaster related]\n",
              "21  Burning Man Ablaze! by Turban Diva http://t.co...  [Not disaster related]\n",
              "22  Not a diss song. People will take 1 thing and ...  [Not disaster related]\n",
              "23  Rape victim dies as she sets herself ablaze: A...      [Disaster related]\n",
              "24       SETTING MYSELF ABLAZE http://t.co/6vMe7P5XhC  [Not disaster related]\n",
              "25  @CTVToronto the bins in front of the field by ...      [Disaster related]\n",
              "26  #nowplaying Alfons - Ablaze 2015 on Puls Radio...  [Not disaster related]\n",
              "27  'Burning Rahm': Let's hope City Hall builds a ...  [Not disaster related]\n",
              "28  @PhilippaEilhart @DhuBlath hurt but her eyes a...  [Not disaster related]\n",
              "29  Accident cleared in #PaTurnpike on PATP EB bet...      [Disaster related]\n",
              "30  Just got to love burning your self on a damn c...  [Not disaster related]\n",
              "31                    I hate badging shit in accident  [Not disaster related]\n",
              "32  #3: Car Recorder ZeroEdgeå¨ Dual-lens Car Came...  [Not disaster related]\n",
              "33  Coincidence Or #Curse? Still #Unresolved Secre...  [Not disaster related]\n",
              "34  @Traffic_SouthE @roadpol_east Accident on A27 ...      [Disaster related]\n",
              "35  @sakuma_en If you pretend to feel a certain wa...  [Not disaster related]\n",
              "36  For Legal and Medical Referral Service @1800_I...  [Not disaster related]\n",
              "37  There's a construction guy working on the Disn...  [Not disaster related]\n",
              "38  @RobynJilllian @WlSDOMTEETHS I feel like I'm g...  [Not disaster related]\n",
              "39  On the #M42 northbound between junctions J3 an...      [Disaster related]\n",
              "40  @DaveOshry @Soembie So if I say that I met her...  [Not disaster related]\n",
              "41  ACCIDENT - HIT AND RUN - COLD at 500 BLOCK OF ...      [Disaster related]\n",
              "42  @Calum5SOS this happened on accident but I lik...  [Not disaster related]\n",
              "43  Please donate and spread the word! A training ...      [Disaster related]\n",
              "44  Please like and share our new page for our Ind...  [Not disaster related]\n",
              "45  @bxckylynch foi no ROH Aftershock: Las Vegas p...  [Not disaster related]\n",
              "46  Schoolboy ÛÒ Aftershock (Original Mix)\\nExcis...  [Not disaster related]\n",
              "47  320 [IR] ICEMOON [AFTERSHOCK] | http://t.co/TH...  [Not disaster related]\n",
              "48  'When the aftershock happened (Nepal) we were ...      [Disaster related]\n",
              "49  320 [IR] ICEMOON [AFTERSHOCK] | http://t.co/gR...  [Not disaster related]"
            ]
          },
          "metadata": {},
          "execution_count": 26
        }
      ]
    },
    {
      "cell_type": "markdown",
      "source": [
        "**MultiLabel Classifier**"
      ],
      "metadata": {
        "id": "QkWCCl8yHYgN"
      }
    },
    {
      "cell_type": "code",
      "source": [
        "!curl -O 'https://s3.amazonaws.com/auxdata.johnsnowlabs.com/public/resources/en/classifier-dl/toxic_comments/toxic_train.snappy.parquet'\n",
        "!curl -O 'https://s3.amazonaws.com/auxdata.johnsnowlabs.com/public/resources/en/classifier-dl/toxic_comments/toxic_test.snappy.parquet'"
      ],
      "metadata": {
        "colab": {
          "base_uri": "https://localhost:8080/"
        },
        "id": "P4B3gi30mURy",
        "outputId": "e5726014-ea46-4be4-e69b-650b777aead1"
      },
      "execution_count": 27,
      "outputs": [
        {
          "output_type": "stream",
          "name": "stdout",
          "text": [
            "  % Total    % Received % Xferd  Average Speed   Time    Time     Time  Current\n",
            "                                 Dload  Upload   Total   Spent    Left  Speed\n",
            "100 2702k  100 2702k    0     0  1186k      0  0:00:02  0:00:02 --:--:-- 1186k\n",
            "  % Total    % Received % Xferd  Average Speed   Time    Time     Time  Current\n",
            "                                 Dload  Upload   Total   Spent    Left  Speed\n",
            "100  289k  100  289k    0     0   167k      0  0:00:01  0:00:01 --:--:--  167k\n"
          ]
        }
      ]
    },
    {
      "cell_type": "code",
      "source": [
        "trainDataset = spark.read.parquet(\"/content/toxic_train.snappy.parquet\").repartition(120)\n",
        "testDataset = spark.read.parquet(\"/content/toxic_test.snappy.parquet\").repartition(10)"
      ],
      "metadata": {
        "id": "bTxyUr_TAgWp"
      },
      "execution_count": 28,
      "outputs": []
    },
    {
      "cell_type": "markdown",
      "source": [
        "Multilabel Classifier with Bert Embeddings"
      ],
      "metadata": {
        "id": "_d9lEo0qYtXI"
      }
    },
    {
      "cell_type": "code",
      "source": [
        "# Let's use shrink to remove new lines in the comments\n",
        "document = DocumentAssembler()\\\n",
        "      .setInputCol(\"text\")\\\n",
        "      .setOutputCol(\"document\")\\\n",
        "      .setCleanupMode(\"shrink\")\n",
        "\n",
        "bert_sent = BertSentenceEmbeddings.pretrained('sent_small_bert_L8_512')\\\n",
        "      .setInputCols([\"document\"])\\\n",
        "      .setOutputCol(\"sentence_embeddings\")\n",
        "\n",
        "# We will use MultiClassifierDL built by using Bidirectional GRU and CNNs inside TensorFlow that supports up to 100 classes\n",
        "# We will use only 5 Epochs but feel free to increase it on your own dataset\n",
        "multiClassifier = MultiClassifierDLApproach()\\\n",
        "      .setInputCols(\"sentence_embeddings\")\\\n",
        "      .setOutputCol(\"category\")\\\n",
        "      .setLabelColumn(\"labels\")\\\n",
        "      .setBatchSize(128)\\\n",
        "      .setMaxEpochs(5)\\\n",
        "      .setLr(1e-3)\\\n",
        "      .setThreshold(0.5)\\\n",
        "      .setShufflePerEpoch(False)\\\n",
        "      .setEnableOutputLogs(True)\\\n",
        "      .setValidationSplit(0.1)\n",
        "\n",
        "pipeline = Pipeline(\n",
        "    stages = [\n",
        "        document,\n",
        "        bert_sent,\n",
        "        multiClassifier\n",
        "    ])"
      ],
      "metadata": {
        "colab": {
          "base_uri": "https://localhost:8080/"
        },
        "id": "TGTZs1juBDKS",
        "outputId": "3e1e2f0f-52ae-49df-ae12-90099517ef0e"
      },
      "execution_count": 30,
      "outputs": [
        {
          "output_type": "stream",
          "name": "stdout",
          "text": [
            "sent_small_bert_L8_512 download started this may take some time.\n",
            "Approximate size to download 149.1 MB\n",
            "[OK!]\n"
          ]
        }
      ]
    },
    {
      "cell_type": "code",
      "source": [
        "%%time\n",
        "pipelineModel = pipeline.fit(trainDataset)"
      ],
      "metadata": {
        "colab": {
          "base_uri": "https://localhost:8080/"
        },
        "id": "acRWi-MtBDXL",
        "outputId": "d7ba1999-e45e-498b-ed2c-c426d39b16a8"
      },
      "execution_count": 31,
      "outputs": [
        {
          "output_type": "stream",
          "name": "stdout",
          "text": [
            "CPU times: user 20.2 s, sys: 2.05 s, total: 22.3 s\n",
            "Wall time: 59min 17s\n"
          ]
        }
      ]
    },
    {
      "cell_type": "code",
      "source": [
        "preds = pipelineModel.transform(testDataset)"
      ],
      "metadata": {
        "id": "Tt7fS98uBDjE"
      },
      "execution_count": 32,
      "outputs": []
    },
    {
      "cell_type": "code",
      "source": [
        "preds_df = preds.select('text','labels',\"category.result\").toPandas()"
      ],
      "metadata": {
        "id": "CjRClnMbBDkm"
      },
      "execution_count": 33,
      "outputs": []
    },
    {
      "cell_type": "code",
      "source": [
        "preds_df.head(10)"
      ],
      "metadata": {
        "colab": {
          "base_uri": "https://localhost:8080/",
          "height": 363
        },
        "id": "9ZYmMZX_BDrE",
        "outputId": "3b28f2e4-1d83-4e70-9c59-78c9f64a34f7"
      },
      "execution_count": 34,
      "outputs": [
        {
          "output_type": "execute_result",
          "data": {
            "text/html": [
              "\n",
              "  <div id=\"df-d11cbd5a-e3f3-4ed9-8664-f2ba1bae9cd8\">\n",
              "    <div class=\"colab-df-container\">\n",
              "      <div>\n",
              "<style scoped>\n",
              "    .dataframe tbody tr th:only-of-type {\n",
              "        vertical-align: middle;\n",
              "    }\n",
              "\n",
              "    .dataframe tbody tr th {\n",
              "        vertical-align: top;\n",
              "    }\n",
              "\n",
              "    .dataframe thead th {\n",
              "        text-align: right;\n",
              "    }\n",
              "</style>\n",
              "<table border=\"1\" class=\"dataframe\">\n",
              "  <thead>\n",
              "    <tr style=\"text-align: right;\">\n",
              "      <th></th>\n",
              "      <th>text</th>\n",
              "      <th>labels</th>\n",
              "      <th>result</th>\n",
              "    </tr>\n",
              "  </thead>\n",
              "  <tbody>\n",
              "    <tr>\n",
              "      <th>0</th>\n",
              "      <td>Vegan \\n\\nWhat in the hell does all that junk ...</td>\n",
              "      <td>[toxic]</td>\n",
              "      <td>[toxic, obscene]</td>\n",
              "    </tr>\n",
              "    <tr>\n",
              "      <th>1</th>\n",
              "      <td>Fight Club! F**k Yeeaaaaahh!!!</td>\n",
              "      <td>[toxic, obscene]</td>\n",
              "      <td>[toxic, obscene]</td>\n",
              "    </tr>\n",
              "    <tr>\n",
              "      <th>2</th>\n",
              "      <td>\"\\n\\n Little quick on the trigger, ain't'cha b...</td>\n",
              "      <td>[toxic]</td>\n",
              "      <td>[toxic]</td>\n",
              "    </tr>\n",
              "    <tr>\n",
              "      <th>3</th>\n",
              "      <td>Your user page indicates you're a left-wing li...</td>\n",
              "      <td>[toxic, obscene, insult]</td>\n",
              "      <td>[toxic]</td>\n",
              "    </tr>\n",
              "    <tr>\n",
              "      <th>4</th>\n",
              "      <td>\"  See all the many Google links, titled\"\" Wik...</td>\n",
              "      <td>[toxic]</td>\n",
              "      <td>[toxic]</td>\n",
              "    </tr>\n",
              "    <tr>\n",
              "      <th>5</th>\n",
              "      <td>\"\\n\\n LOL \\n\\nLOL. Seriously, \"\"BryanFromPalat...</td>\n",
              "      <td>[toxic]</td>\n",
              "      <td>[toxic, obscene]</td>\n",
              "    </tr>\n",
              "    <tr>\n",
              "      <th>6</th>\n",
              "      <td>is it because it is of my naked mum having sex...</td>\n",
              "      <td>[toxic, severe_toxic, obscene, insult, identit...</td>\n",
              "      <td>[toxic, severe_toxic, insult, obscene]</td>\n",
              "    </tr>\n",
              "    <tr>\n",
              "      <th>7</th>\n",
              "      <td>)\\na cowards site, that must stop changing thi...</td>\n",
              "      <td>[toxic, obscene]</td>\n",
              "      <td>[toxic]</td>\n",
              "    </tr>\n",
              "    <tr>\n",
              "      <th>8</th>\n",
              "      <td>blow me, criticism IS constructive. \\n\\nBlow m...</td>\n",
              "      <td>[toxic, obscene, insult]</td>\n",
              "      <td>[toxic, insult, obscene]</td>\n",
              "    </tr>\n",
              "    <tr>\n",
              "      <th>9</th>\n",
              "      <td>On account of the project deciding to ignore h...</td>\n",
              "      <td>[toxic, obscene, insult]</td>\n",
              "      <td>[toxic]</td>\n",
              "    </tr>\n",
              "  </tbody>\n",
              "</table>\n",
              "</div>\n",
              "      <button class=\"colab-df-convert\" onclick=\"convertToInteractive('df-d11cbd5a-e3f3-4ed9-8664-f2ba1bae9cd8')\"\n",
              "              title=\"Convert this dataframe to an interactive table.\"\n",
              "              style=\"display:none;\">\n",
              "        \n",
              "  <svg xmlns=\"http://www.w3.org/2000/svg\" height=\"24px\"viewBox=\"0 0 24 24\"\n",
              "       width=\"24px\">\n",
              "    <path d=\"M0 0h24v24H0V0z\" fill=\"none\"/>\n",
              "    <path d=\"M18.56 5.44l.94 2.06.94-2.06 2.06-.94-2.06-.94-.94-2.06-.94 2.06-2.06.94zm-11 1L8.5 8.5l.94-2.06 2.06-.94-2.06-.94L8.5 2.5l-.94 2.06-2.06.94zm10 10l.94 2.06.94-2.06 2.06-.94-2.06-.94-.94-2.06-.94 2.06-2.06.94z\"/><path d=\"M17.41 7.96l-1.37-1.37c-.4-.4-.92-.59-1.43-.59-.52 0-1.04.2-1.43.59L10.3 9.45l-7.72 7.72c-.78.78-.78 2.05 0 2.83L4 21.41c.39.39.9.59 1.41.59.51 0 1.02-.2 1.41-.59l7.78-7.78 2.81-2.81c.8-.78.8-2.07 0-2.86zM5.41 20L4 18.59l7.72-7.72 1.47 1.35L5.41 20z\"/>\n",
              "  </svg>\n",
              "      </button>\n",
              "      \n",
              "  <style>\n",
              "    .colab-df-container {\n",
              "      display:flex;\n",
              "      flex-wrap:wrap;\n",
              "      gap: 12px;\n",
              "    }\n",
              "\n",
              "    .colab-df-convert {\n",
              "      background-color: #E8F0FE;\n",
              "      border: none;\n",
              "      border-radius: 50%;\n",
              "      cursor: pointer;\n",
              "      display: none;\n",
              "      fill: #1967D2;\n",
              "      height: 32px;\n",
              "      padding: 0 0 0 0;\n",
              "      width: 32px;\n",
              "    }\n",
              "\n",
              "    .colab-df-convert:hover {\n",
              "      background-color: #E2EBFA;\n",
              "      box-shadow: 0px 1px 2px rgba(60, 64, 67, 0.3), 0px 1px 3px 1px rgba(60, 64, 67, 0.15);\n",
              "      fill: #174EA6;\n",
              "    }\n",
              "\n",
              "    [theme=dark] .colab-df-convert {\n",
              "      background-color: #3B4455;\n",
              "      fill: #D2E3FC;\n",
              "    }\n",
              "\n",
              "    [theme=dark] .colab-df-convert:hover {\n",
              "      background-color: #434B5C;\n",
              "      box-shadow: 0px 1px 3px 1px rgba(0, 0, 0, 0.15);\n",
              "      filter: drop-shadow(0px 1px 2px rgba(0, 0, 0, 0.3));\n",
              "      fill: #FFFFFF;\n",
              "    }\n",
              "  </style>\n",
              "\n",
              "      <script>\n",
              "        const buttonEl =\n",
              "          document.querySelector('#df-d11cbd5a-e3f3-4ed9-8664-f2ba1bae9cd8 button.colab-df-convert');\n",
              "        buttonEl.style.display =\n",
              "          google.colab.kernel.accessAllowed ? 'block' : 'none';\n",
              "\n",
              "        async function convertToInteractive(key) {\n",
              "          const element = document.querySelector('#df-d11cbd5a-e3f3-4ed9-8664-f2ba1bae9cd8');\n",
              "          const dataTable =\n",
              "            await google.colab.kernel.invokeFunction('convertToInteractive',\n",
              "                                                     [key], {});\n",
              "          if (!dataTable) return;\n",
              "\n",
              "          const docLinkHtml = 'Like what you see? Visit the ' +\n",
              "            '<a target=\"_blank\" href=https://colab.research.google.com/notebooks/data_table.ipynb>data table notebook</a>'\n",
              "            + ' to learn more about interactive tables.';\n",
              "          element.innerHTML = '';\n",
              "          dataTable['output_type'] = 'display_data';\n",
              "          await google.colab.output.renderOutput(dataTable, element);\n",
              "          const docLink = document.createElement('div');\n",
              "          docLink.innerHTML = docLinkHtml;\n",
              "          element.appendChild(docLink);\n",
              "        }\n",
              "      </script>\n",
              "    </div>\n",
              "  </div>\n",
              "  "
            ],
            "text/plain": [
              "                                                text  ...                                  result\n",
              "0  Vegan \\n\\nWhat in the hell does all that junk ...  ...                        [toxic, obscene]\n",
              "1                     Fight Club! F**k Yeeaaaaahh!!!  ...                        [toxic, obscene]\n",
              "2  \"\\n\\n Little quick on the trigger, ain't'cha b...  ...                                 [toxic]\n",
              "3  Your user page indicates you're a left-wing li...  ...                                 [toxic]\n",
              "4  \"  See all the many Google links, titled\"\" Wik...  ...                                 [toxic]\n",
              "5  \"\\n\\n LOL \\n\\nLOL. Seriously, \"\"BryanFromPalat...  ...                        [toxic, obscene]\n",
              "6  is it because it is of my naked mum having sex...  ...  [toxic, severe_toxic, insult, obscene]\n",
              "7  )\\na cowards site, that must stop changing thi...  ...                                 [toxic]\n",
              "8  blow me, criticism IS constructive. \\n\\nBlow m...  ...                [toxic, insult, obscene]\n",
              "9  On account of the project deciding to ignore h...  ...                                 [toxic]\n",
              "\n",
              "[10 rows x 3 columns]"
            ]
          },
          "metadata": {},
          "execution_count": 34
        }
      ]
    },
    {
      "cell_type": "markdown",
      "source": [
        "Saving & loading back the trained model"
      ],
      "metadata": {
        "id": "QJ7HcSa5UFeW"
      }
    },
    {
      "cell_type": "code",
      "source": [
        "pipelineModel.stages"
      ],
      "metadata": {
        "colab": {
          "base_uri": "https://localhost:8080/"
        },
        "id": "6v-dqJlYBDyB",
        "outputId": "252c798e-5d91-435b-b632-14226cfd8d1f"
      },
      "execution_count": 36,
      "outputs": [
        {
          "output_type": "execute_result",
          "data": {
            "text/plain": [
              "[DocumentAssembler_fd4ee7f1d52c,\n",
              " BERT_SENTENCE_EMBEDDINGS_3608c0d843af,\n",
              " MultiClassifierDLModel_74c72338e21b]"
            ]
          },
          "metadata": {},
          "execution_count": 36
        }
      ]
    },
    {
      "cell_type": "code",
      "source": [
        "# Save the Multilabel Classifier Model\n",
        "pipelineModel.stages[2].write().overwrite().save('MultilabelClfBert')"
      ],
      "metadata": {
        "id": "jbwJ-HyfF_6r"
      },
      "execution_count": 37,
      "outputs": []
    },
    {
      "cell_type": "code",
      "source": [
        "# Load back  saved Multilabel Classifier Model\n",
        "MultilabelClfModel = MultiClassifierDLModel.load('MultilabelClfBert')"
      ],
      "metadata": {
        "id": "OZctm-2uGAIm"
      },
      "execution_count": 38,
      "outputs": []
    },
    {
      "cell_type": "code",
      "source": [
        "# Generate prediction Pipeline with loaded Model \n",
        "ld_pipeline = Pipeline(stages=[document, bert_sent, MultilabelClfModel])\n",
        "ld_pipeline_model = ld_pipeline.fit(spark.createDataFrame([['']]).toDF(\"text\"))"
      ],
      "metadata": {
        "id": "8DS617GrGAaR"
      },
      "execution_count": 39,
      "outputs": []
    },
    {
      "cell_type": "code",
      "source": [
        "# Apply Model Transform to testData\n",
        "ld_preds = ld_pipeline_model.transform(testDataset)"
      ],
      "metadata": {
        "id": "QGspPwPaGAqu"
      },
      "execution_count": 40,
      "outputs": []
    },
    {
      "cell_type": "code",
      "source": [
        "ld_preds_df = ld_preds.select('text','labels',\"category.result\").toPandas()"
      ],
      "metadata": {
        "id": "4r4UgSDFGM1A"
      },
      "execution_count": 41,
      "outputs": []
    },
    {
      "cell_type": "code",
      "source": [
        "ld_preds_df.head(10)"
      ],
      "metadata": {
        "colab": {
          "base_uri": "https://localhost:8080/",
          "height": 363
        },
        "id": "1vSMhWixGNEi",
        "outputId": "9bacc29f-9f60-4e73-e48b-d6fe1fb2f6a1"
      },
      "execution_count": 42,
      "outputs": [
        {
          "output_type": "execute_result",
          "data": {
            "text/html": [
              "\n",
              "  <div id=\"df-c8249357-c5be-48fd-99b9-d09ae6e08dd7\">\n",
              "    <div class=\"colab-df-container\">\n",
              "      <div>\n",
              "<style scoped>\n",
              "    .dataframe tbody tr th:only-of-type {\n",
              "        vertical-align: middle;\n",
              "    }\n",
              "\n",
              "    .dataframe tbody tr th {\n",
              "        vertical-align: top;\n",
              "    }\n",
              "\n",
              "    .dataframe thead th {\n",
              "        text-align: right;\n",
              "    }\n",
              "</style>\n",
              "<table border=\"1\" class=\"dataframe\">\n",
              "  <thead>\n",
              "    <tr style=\"text-align: right;\">\n",
              "      <th></th>\n",
              "      <th>text</th>\n",
              "      <th>labels</th>\n",
              "      <th>result</th>\n",
              "    </tr>\n",
              "  </thead>\n",
              "  <tbody>\n",
              "    <tr>\n",
              "      <th>0</th>\n",
              "      <td>Vegan \\n\\nWhat in the hell does all that junk ...</td>\n",
              "      <td>[toxic]</td>\n",
              "      <td>[toxic, obscene]</td>\n",
              "    </tr>\n",
              "    <tr>\n",
              "      <th>1</th>\n",
              "      <td>Fight Club! F**k Yeeaaaaahh!!!</td>\n",
              "      <td>[toxic, obscene]</td>\n",
              "      <td>[toxic, obscene]</td>\n",
              "    </tr>\n",
              "    <tr>\n",
              "      <th>2</th>\n",
              "      <td>\"\\n\\n Little quick on the trigger, ain't'cha b...</td>\n",
              "      <td>[toxic]</td>\n",
              "      <td>[toxic]</td>\n",
              "    </tr>\n",
              "    <tr>\n",
              "      <th>3</th>\n",
              "      <td>Your user page indicates you're a left-wing li...</td>\n",
              "      <td>[toxic, obscene, insult]</td>\n",
              "      <td>[toxic]</td>\n",
              "    </tr>\n",
              "    <tr>\n",
              "      <th>4</th>\n",
              "      <td>\"  See all the many Google links, titled\"\" Wik...</td>\n",
              "      <td>[toxic]</td>\n",
              "      <td>[toxic]</td>\n",
              "    </tr>\n",
              "    <tr>\n",
              "      <th>5</th>\n",
              "      <td>\"\\n\\n LOL \\n\\nLOL. Seriously, \"\"BryanFromPalat...</td>\n",
              "      <td>[toxic]</td>\n",
              "      <td>[toxic, obscene]</td>\n",
              "    </tr>\n",
              "    <tr>\n",
              "      <th>6</th>\n",
              "      <td>is it because it is of my naked mum having sex...</td>\n",
              "      <td>[toxic, severe_toxic, obscene, insult, identit...</td>\n",
              "      <td>[toxic, severe_toxic, insult, obscene]</td>\n",
              "    </tr>\n",
              "    <tr>\n",
              "      <th>7</th>\n",
              "      <td>)\\na cowards site, that must stop changing thi...</td>\n",
              "      <td>[toxic, obscene]</td>\n",
              "      <td>[toxic]</td>\n",
              "    </tr>\n",
              "    <tr>\n",
              "      <th>8</th>\n",
              "      <td>blow me, criticism IS constructive. \\n\\nBlow m...</td>\n",
              "      <td>[toxic, obscene, insult]</td>\n",
              "      <td>[toxic, insult, obscene]</td>\n",
              "    </tr>\n",
              "    <tr>\n",
              "      <th>9</th>\n",
              "      <td>On account of the project deciding to ignore h...</td>\n",
              "      <td>[toxic, obscene, insult]</td>\n",
              "      <td>[toxic]</td>\n",
              "    </tr>\n",
              "  </tbody>\n",
              "</table>\n",
              "</div>\n",
              "      <button class=\"colab-df-convert\" onclick=\"convertToInteractive('df-c8249357-c5be-48fd-99b9-d09ae6e08dd7')\"\n",
              "              title=\"Convert this dataframe to an interactive table.\"\n",
              "              style=\"display:none;\">\n",
              "        \n",
              "  <svg xmlns=\"http://www.w3.org/2000/svg\" height=\"24px\"viewBox=\"0 0 24 24\"\n",
              "       width=\"24px\">\n",
              "    <path d=\"M0 0h24v24H0V0z\" fill=\"none\"/>\n",
              "    <path d=\"M18.56 5.44l.94 2.06.94-2.06 2.06-.94-2.06-.94-.94-2.06-.94 2.06-2.06.94zm-11 1L8.5 8.5l.94-2.06 2.06-.94-2.06-.94L8.5 2.5l-.94 2.06-2.06.94zm10 10l.94 2.06.94-2.06 2.06-.94-2.06-.94-.94-2.06-.94 2.06-2.06.94z\"/><path d=\"M17.41 7.96l-1.37-1.37c-.4-.4-.92-.59-1.43-.59-.52 0-1.04.2-1.43.59L10.3 9.45l-7.72 7.72c-.78.78-.78 2.05 0 2.83L4 21.41c.39.39.9.59 1.41.59.51 0 1.02-.2 1.41-.59l7.78-7.78 2.81-2.81c.8-.78.8-2.07 0-2.86zM5.41 20L4 18.59l7.72-7.72 1.47 1.35L5.41 20z\"/>\n",
              "  </svg>\n",
              "      </button>\n",
              "      \n",
              "  <style>\n",
              "    .colab-df-container {\n",
              "      display:flex;\n",
              "      flex-wrap:wrap;\n",
              "      gap: 12px;\n",
              "    }\n",
              "\n",
              "    .colab-df-convert {\n",
              "      background-color: #E8F0FE;\n",
              "      border: none;\n",
              "      border-radius: 50%;\n",
              "      cursor: pointer;\n",
              "      display: none;\n",
              "      fill: #1967D2;\n",
              "      height: 32px;\n",
              "      padding: 0 0 0 0;\n",
              "      width: 32px;\n",
              "    }\n",
              "\n",
              "    .colab-df-convert:hover {\n",
              "      background-color: #E2EBFA;\n",
              "      box-shadow: 0px 1px 2px rgba(60, 64, 67, 0.3), 0px 1px 3px 1px rgba(60, 64, 67, 0.15);\n",
              "      fill: #174EA6;\n",
              "    }\n",
              "\n",
              "    [theme=dark] .colab-df-convert {\n",
              "      background-color: #3B4455;\n",
              "      fill: #D2E3FC;\n",
              "    }\n",
              "\n",
              "    [theme=dark] .colab-df-convert:hover {\n",
              "      background-color: #434B5C;\n",
              "      box-shadow: 0px 1px 3px 1px rgba(0, 0, 0, 0.15);\n",
              "      filter: drop-shadow(0px 1px 2px rgba(0, 0, 0, 0.3));\n",
              "      fill: #FFFFFF;\n",
              "    }\n",
              "  </style>\n",
              "\n",
              "      <script>\n",
              "        const buttonEl =\n",
              "          document.querySelector('#df-c8249357-c5be-48fd-99b9-d09ae6e08dd7 button.colab-df-convert');\n",
              "        buttonEl.style.display =\n",
              "          google.colab.kernel.accessAllowed ? 'block' : 'none';\n",
              "\n",
              "        async function convertToInteractive(key) {\n",
              "          const element = document.querySelector('#df-c8249357-c5be-48fd-99b9-d09ae6e08dd7');\n",
              "          const dataTable =\n",
              "            await google.colab.kernel.invokeFunction('convertToInteractive',\n",
              "                                                     [key], {});\n",
              "          if (!dataTable) return;\n",
              "\n",
              "          const docLinkHtml = 'Like what you see? Visit the ' +\n",
              "            '<a target=\"_blank\" href=https://colab.research.google.com/notebooks/data_table.ipynb>data table notebook</a>'\n",
              "            + ' to learn more about interactive tables.';\n",
              "          element.innerHTML = '';\n",
              "          dataTable['output_type'] = 'display_data';\n",
              "          await google.colab.output.renderOutput(dataTable, element);\n",
              "          const docLink = document.createElement('div');\n",
              "          docLink.innerHTML = docLinkHtml;\n",
              "          element.appendChild(docLink);\n",
              "        }\n",
              "      </script>\n",
              "    </div>\n",
              "  </div>\n",
              "  "
            ],
            "text/plain": [
              "                                                text  ...                                  result\n",
              "0  Vegan \\n\\nWhat in the hell does all that junk ...  ...                        [toxic, obscene]\n",
              "1                     Fight Club! F**k Yeeaaaaahh!!!  ...                        [toxic, obscene]\n",
              "2  \"\\n\\n Little quick on the trigger, ain't'cha b...  ...                                 [toxic]\n",
              "3  Your user page indicates you're a left-wing li...  ...                                 [toxic]\n",
              "4  \"  See all the many Google links, titled\"\" Wik...  ...                                 [toxic]\n",
              "5  \"\\n\\n LOL \\n\\nLOL. Seriously, \"\"BryanFromPalat...  ...                        [toxic, obscene]\n",
              "6  is it because it is of my naked mum having sex...  ...  [toxic, severe_toxic, insult, obscene]\n",
              "7  )\\na cowards site, that must stop changing thi...  ...                                 [toxic]\n",
              "8  blow me, criticism IS constructive. \\n\\nBlow m...  ...                [toxic, insult, obscene]\n",
              "9  On account of the project deciding to ignore h...  ...                                 [toxic]\n",
              "\n",
              "[10 rows x 3 columns]"
            ]
          },
          "metadata": {},
          "execution_count": 42
        }
      ]
    }
  ]
}